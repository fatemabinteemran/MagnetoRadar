{
 "cells": [
  {
   "cell_type": "code",
   "execution_count": 1,
   "id": "edfe8c28-711f-4d3c-ba39-54eaad911709",
   "metadata": {},
   "outputs": [],
   "source": [
    "import pandas as pd\n",
    "import numpy as np\n",
    "import matplotlib.pyplot as plt\n",
    "from sklearn.preprocessing import MinMaxScaler\n",
    "from sklearn.impute import SimpleImputer\n",
    "from tensorflow.keras.models import Sequential\n",
    "from tensorflow.keras.layers import LSTM, Dense\n",
    "from tensorflow.keras.callbacks import EarlyStopping\n"
   ]
  },
  {
   "cell_type": "code",
   "execution_count": 2,
   "id": "dcdee60d-1a77-40b9-aa51-c528f9257ed9",
   "metadata": {},
   "outputs": [
    {
     "name": "stdout",
     "output_type": "stream",
     "text": [
      "               time_tag  satellite        flux   energy\n",
      "0  2024-08-25T12:10:00Z         16   43.201927  >=2 MeV\n",
      "1  2024-08-25T12:15:00Z         16    9.090318  >=2 MeV\n",
      "2  2024-08-25T12:20:00Z         16  123.123161  >=2 MeV\n",
      "3  2024-08-25T12:25:00Z         16  136.516174  >=2 MeV\n",
      "4  2024-08-25T12:30:00Z         16    4.000000  >=2 MeV\n",
      "               time_tag  satellite      flux     energy\n",
      "0  2024-08-25T12:10:00Z         18  0.341341    >=1 MeV\n",
      "1  2024-08-25T12:10:00Z         18  0.193341   >=10 MeV\n",
      "2  2024-08-25T12:10:00Z         18  0.184341  >=100 MeV\n",
      "3  2024-08-25T12:10:00Z         18  0.186341   >=30 MeV\n",
      "4  2024-08-25T12:10:00Z         18  0.196341    >=5 MeV\n"
     ]
    }
   ],
   "source": [
    "# Load the CSV files for electron and proton flux\n",
    "df_electron = pd.read_csv('C:\\\\Users\\\\shahi\\\\OneDrive\\\\Desktop\\\\Fatema_NASA\\\\Van_Allen\\\\3_days_electron_flux.csv')\n",
    "df_proton = pd.read_csv('C:\\\\Users\\\\shahi\\\\OneDrive\\\\Desktop\\\\Fatema_NASA\\\\Van_Allen\\\\proton_flux_3_days.csv')\n",
    "\n",
    "# Print to verify\n",
    "print(df_electron.head())\n",
    "print(df_proton.head())\n"
   ]
  },
  {
   "cell_type": "code",
   "execution_count": 4,
   "id": "fc9b332a-03cc-46bf-805d-29bd74616ed2",
   "metadata": {},
   "outputs": [],
   "source": [
    "import pandas as pd\n",
    "import numpy as np\n",
    "from sklearn.preprocessing import MinMaxScaler\n",
    "from sklearn.impute import SimpleImputer\n",
    "\n",
    "# Load the datasets (assuming they are loaded as df_electron and df_proton)\n",
    "df_electron = pd.read_csv('C:\\\\Users\\\\shahi\\\\OneDrive\\\\Desktop\\\\Fatema_NASA\\\\Van_Allen\\\\3_days_electron_flux.csv')\n",
    "df_proton = pd.read_csv('C:\\\\Users\\\\shahi\\\\OneDrive\\\\Desktop\\\\Fatema_NASA\\\\Van_Allen\\\\proton_flux_3_days.csv')\n",
    "\n",
    "# Convert 'time_tag' to datetime\n",
    "df_electron['time_tag'] = pd.to_datetime(df_electron['time_tag'])\n",
    "df_proton['time_tag'] = pd.to_datetime(df_proton['time_tag'])\n",
    "\n",
    "# Set 'time_tag' as index\n",
    "df_electron.set_index('time_tag', inplace=True)\n",
    "df_proton.set_index('time_tag', inplace=True)\n",
    "\n",
    "# Handle missing values in 'flux' column\n",
    "imputer = SimpleImputer(strategy='mean')\n",
    "df_electron['flux'] = imputer.fit_transform(df_electron[['flux']])\n",
    "df_proton['flux'] = imputer.fit_transform(df_proton[['flux']])\n",
    "\n",
    "# Normalize the 'flux' columns\n",
    "scaler_electron = MinMaxScaler()\n",
    "scaler_proton = MinMaxScaler()\n",
    "df_electron['flux_scaled'] = scaler_electron.fit_transform(df_electron[['flux']])\n",
    "df_proton['flux_scaled'] = scaler_proton.fit_transform(df_proton[['flux']])\n"
   ]
  },
  {
   "cell_type": "code",
   "execution_count": 5,
   "id": "74d38717-bfa8-48ba-a496-01f3acbe6c95",
   "metadata": {},
   "outputs": [
    {
     "name": "stdout",
     "output_type": "stream",
     "text": [
      "                           electron_flux  proton_flux\n",
      "time_tag                                             \n",
      "2024-08-25 12:10:00+00:00       0.156084     0.000926\n",
      "2024-08-25 12:10:00+00:00       0.156084     0.000292\n",
      "2024-08-25 12:10:00+00:00       0.156084     0.000253\n",
      "2024-08-25 12:10:00+00:00       0.156084     0.000262\n",
      "2024-08-25 12:10:00+00:00       0.156084     0.000304\n"
     ]
    }
   ],
   "source": [
    "# Merge datasets on timestamp index\n",
    "df_combined = pd.merge(df_electron[['flux_scaled']], df_proton[['flux_scaled']], left_index=True, right_index=True, suffixes=('_electron', '_proton'))\n",
    "\n",
    "# Rename columns for clarity\n",
    "df_combined.columns = ['electron_flux', 'proton_flux']\n",
    "\n",
    "print(df_combined.head())\n"
   ]
  },
  {
   "cell_type": "code",
   "execution_count": 6,
   "id": "f0621cb1-2a6e-49d8-bee7-3b199f52e19e",
   "metadata": {},
   "outputs": [
    {
     "name": "stdout",
     "output_type": "stream",
     "text": [
      "Input shape: (6872, 24, 2)\n",
      "Output shape: (6872, 2)\n"
     ]
    }
   ],
   "source": [
    "import numpy as np\n",
    "\n",
    "def create_sequences(data, seq_length):\n",
    "    xs, ys = [], []\n",
    "    for i in range(len(data) - seq_length):\n",
    "        x = data[i:i + seq_length]\n",
    "        y = data[i + seq_length]\n",
    "        xs.append(x)\n",
    "        ys.append(y)\n",
    "    return np.array(xs), np.array(ys)\n",
    "\n",
    "# Define sequence length (e.g., 24 for 24 time steps; adjust as needed)\n",
    "seq_length = 24  # Adjust based on your specific requirements\n",
    "\n",
    "# Create sequences from the combined data\n",
    "X_combined, y_combined = create_sequences(df_combined.values, seq_length)\n",
    "\n",
    "# Check the shape of the created sequences\n",
    "print(f\"Input shape: {X_combined.shape}\")\n",
    "print(f\"Output shape: {y_combined.shape}\")\n"
   ]
  },
  {
   "cell_type": "code",
   "execution_count": 7,
   "id": "7396a8d9-59b5-4d6b-86fa-1e168593ddbc",
   "metadata": {},
   "outputs": [
    {
     "name": "stdout",
     "output_type": "stream",
     "text": [
      "Training input shape: (5497, 24, 2)\n",
      "Testing input shape: (1375, 24, 2)\n"
     ]
    }
   ],
   "source": [
    "# Split data into training and testing sets\n",
    "split_combined = int(0.8 * len(X_combined))\n",
    "X_train_combined, X_test_combined = X_combined[:split_combined], X_combined[split_combined:]\n",
    "y_train_combined, y_test_combined = y_combined[:split_combined], y_combined[split_combined:]\n",
    "\n",
    "# Reshape the data for LSTM input\n",
    "X_train_combined = X_train_combined.reshape((X_train_combined.shape[0], X_train_combined.shape[1], 2))  # Two features: electron_flux and proton_flux\n",
    "X_test_combined = X_test_combined.reshape((X_test_combined.shape[0], X_test_combined.shape[1], 2))\n",
    "\n",
    "print(f\"Training input shape: {X_train_combined.shape}\")\n",
    "print(f\"Testing input shape: {X_test_combined.shape}\")\n"
   ]
  },
  {
   "cell_type": "code",
   "execution_count": 8,
   "id": "f5818961-c688-4379-bb0b-a618ab5a6715",
   "metadata": {},
   "outputs": [
    {
     "name": "stderr",
     "output_type": "stream",
     "text": [
      "C:\\Users\\shahi\\AppData\\Local\\Programs\\Python\\Python312\\Lib\\site-packages\\keras\\src\\layers\\rnn\\rnn.py:204: UserWarning: Do not pass an `input_shape`/`input_dim` argument to a layer. When using Sequential models, prefer using an `Input(shape)` object as the first layer in the model instead.\n",
      "  super().__init__(**kwargs)\n"
     ]
    },
    {
     "name": "stdout",
     "output_type": "stream",
     "text": [
      "Epoch 1/50\n",
      "\u001b[1m172/172\u001b[0m \u001b[32m━━━━━━━━━━━━━━━━━━━━\u001b[0m\u001b[37m\u001b[0m \u001b[1m20s\u001b[0m 64ms/step - loss: 0.0180 - val_loss: 0.0029\n",
      "Epoch 2/50\n",
      "\u001b[1m172/172\u001b[0m \u001b[32m━━━━━━━━━━━━━━━━━━━━\u001b[0m\u001b[37m\u001b[0m \u001b[1m18s\u001b[0m 50ms/step - loss: 0.0044 - val_loss: 0.0017\n",
      "Epoch 3/50\n",
      "\u001b[1m172/172\u001b[0m \u001b[32m━━━━━━━━━━━━━━━━━━━━\u001b[0m\u001b[37m\u001b[0m \u001b[1m13s\u001b[0m 64ms/step - loss: 0.0032 - val_loss: 0.0022\n",
      "Epoch 4/50\n",
      "\u001b[1m172/172\u001b[0m \u001b[32m━━━━━━━━━━━━━━━━━━━━\u001b[0m\u001b[37m\u001b[0m \u001b[1m11s\u001b[0m 61ms/step - loss: 0.0030 - val_loss: 0.0018\n",
      "Epoch 5/50\n",
      "\u001b[1m172/172\u001b[0m \u001b[32m━━━━━━━━━━━━━━━━━━━━\u001b[0m\u001b[37m\u001b[0m \u001b[1m22s\u001b[0m 68ms/step - loss: 0.0028 - val_loss: 0.0016\n",
      "Epoch 6/50\n",
      "\u001b[1m172/172\u001b[0m \u001b[32m━━━━━━━━━━━━━━━━━━━━\u001b[0m\u001b[37m\u001b[0m \u001b[1m12s\u001b[0m 70ms/step - loss: 0.0032 - val_loss: 0.0022\n",
      "Epoch 7/50\n",
      "\u001b[1m172/172\u001b[0m \u001b[32m━━━━━━━━━━━━━━━━━━━━\u001b[0m\u001b[37m\u001b[0m \u001b[1m16s\u001b[0m 41ms/step - loss: 0.0032 - val_loss: 0.0019\n",
      "Epoch 8/50\n",
      "\u001b[1m172/172\u001b[0m \u001b[32m━━━━━━━━━━━━━━━━━━━━\u001b[0m\u001b[37m\u001b[0m \u001b[1m8s\u001b[0m 44ms/step - loss: 0.0031 - val_loss: 0.0017\n",
      "Epoch 9/50\n",
      "\u001b[1m172/172\u001b[0m \u001b[32m━━━━━━━━━━━━━━━━━━━━\u001b[0m\u001b[37m\u001b[0m \u001b[1m7s\u001b[0m 42ms/step - loss: 0.0028 - val_loss: 0.0022\n",
      "Epoch 10/50\n",
      "\u001b[1m172/172\u001b[0m \u001b[32m━━━━━━━━━━━━━━━━━━━━\u001b[0m\u001b[37m\u001b[0m \u001b[1m8s\u001b[0m 43ms/step - loss: 0.0034 - val_loss: 0.0019\n"
     ]
    },
    {
     "data": {
      "image/png": "[encoded data removed]",
      "text/plain": [
       "<Figure size 1000x600 with 1 Axes>"
      ]
     },
     "metadata": {},
     "output_type": "display_data"
    }
   ],
   "source": [
    "from tensorflow.keras.models import Sequential\n",
    "from tensorflow.keras.layers import LSTM, Dense\n",
    "from tensorflow.keras.callbacks import EarlyStopping\n",
    "\n",
    "# Define the LSTM model\n",
    "model_combined = Sequential()\n",
    "model_combined.add(LSTM(50, activation='relu', input_shape=(X_train_combined.shape[1], X_train_combined.shape[2])))\n",
    "model_combined.add(Dense(2))  # Output two features: electron_flux and proton_flux\n",
    "model_combined.compile(optimizer='adam', loss='mean_squared_error')\n",
    "\n",
    "# Train the model\n",
    "history_combined = model_combined.fit(X_train_combined, y_train_combined, epochs=50, batch_size=32,\n",
    "                                      validation_data=(X_test_combined, y_test_combined),\n",
    "                                      callbacks=[EarlyStopping(monitor='val_loss', patience=5)])\n",
    "\n",
    "# Plot the training and validation loss\n",
    "import matplotlib.pyplot as plt\n",
    "\n",
    "plt.figure(figsize=(10, 6))\n",
    "plt.plot(history_combined.history['loss'], label='Training Loss')\n",
    "plt.plot(history_combined.history['val_loss'], label='Validation Loss')\n",
    "plt.title('LSTM Training and Validation Loss')\n",
    "plt.xlabel('Epochs')\n",
    "plt.ylabel('Loss')\n",
    "plt.legend()\n",
    "plt.grid(True)\n",
    "plt.show()\n"
   ]
  },
  {
   "cell_type": "code",
   "execution_count": null,
   "id": "812f9b12-3864-4571-90b3-b611c252ba59",
   "metadata": {},
   "outputs": [],
   "source": []
  }
 ],
 "metadata": {
  "kernelspec": {
   "display_name": "Python 3 (ipykernel)",
   "language": "python",
   "name": "python3"
  },
  "language_info": {
   "codemirror_mode": {
    "name": "ipython",
    "version": 3
   },
   "file_extension": ".py",
   "mimetype": "text/x-python",
   "name": "python",
   "nbconvert_exporter": "python",
   "pygments_lexer": "ipython3",
   "version": "3.12.5"
  }
 },
 "nbformat": 4,
 "nbformat_minor": 5
}
